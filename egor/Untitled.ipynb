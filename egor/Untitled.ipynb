{
 "cells": [
  {
   "cell_type": "code",
   "execution_count": 17,
   "id": "90a9706d-26ef-408d-8140-965f263f64ae",
   "metadata": {},
   "outputs": [],
   "source": [
    "FLAG = 'vsuetctf{eg0r_one_l0v3}'\n",
    "\n",
    "with open('egor/flag.txt', 'w') as file:\n",
    "    file.write(FLAG)\n",
    "\n"
   ]
  },
  {
   "cell_type": "code",
   "execution_count": 18,
   "id": "216a88ea-b672-4887-9467-51e2e5c3da0c",
   "metadata": {},
   "outputs": [],
   "source": [
    "import shutil\n",
    "import os\n",
    "from random import choice\n",
    "\n",
    "v = ['tar', 'zip']\n",
    "\n",
    "shutil.make_archive('egor/egor', 'zip', 'egor')\n",
    "os.rename('egor/egor.zip', 'egor/egor.egor')\n",
    "os.remove('egor/flag.txt')\n",
    "\n",
    "for layer in range(15, 0, -1):\n",
    "    l = choice(v)\n",
    "    shutil.make_archive('egor/egor', l, 'egor')\n",
    "    os.rename('egor/egor.' + l, 'egor/egor.egor')"
   ]
  }
 ],
 "metadata": {
  "kernelspec": {
   "display_name": "Python 3 (ipykernel)",
   "language": "python",
   "name": "python3"
  },
  "language_info": {
   "codemirror_mode": {
    "name": "ipython",
    "version": 3
   },
   "file_extension": ".py",
   "mimetype": "text/x-python",
   "name": "python",
   "nbconvert_exporter": "python",
   "pygments_lexer": "ipython3",
   "version": "3.11.4"
  }
 },
 "nbformat": 4,
 "nbformat_minor": 5
}
